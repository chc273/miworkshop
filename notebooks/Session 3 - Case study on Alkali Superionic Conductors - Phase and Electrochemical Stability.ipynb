{
 "cells": [
  {
   "cell_type": "markdown",
   "metadata": {},
   "source": [
    "# Introduction\n",
    "\n",
    "In this session, we will attempt a simplified version of the analysis performed in Chu, I.-H. et al. Room-Temperature All-solid-state Rechargeable Sodium-ion Batteries with a Cl-doped Na3PS4 Superionic Conductor. Sci. Rep. 2016, 6, 33733."
   ]
  },
  {
   "cell_type": "markdown",
   "metadata": {},
   "source": [
    "# Getting the structure for t-Na3PS4"
   ]
  },
  {
   "cell_type": "code",
   "execution_count": 11,
   "metadata": {},
   "outputs": [
    {
     "name": "stdout",
     "output_type": "stream",
     "text": [
      "2\n",
      "Full Formula (Na6 P2 S8)\n",
      "Reduced Formula: Na3PS4\n",
      "abc   :   6.952000   6.952000   7.075700\n",
      "angles:  90.000000  90.000000  90.000000\n",
      "Sites (16)\n",
      "  #  SP          a        b        c\n",
      "---  ----  -------  -------  -------\n",
      "  0  Na+   0        0.5      0.42066\n",
      "  1  Na+   0.5      0        0.57934\n",
      "  2  Na+   0.5      0        0.07934\n",
      "  3  Na+   0        0.5      0.92066\n",
      "  4  Na+   0        0        0\n",
      "  5  Na+   0.5      0.5      0.5\n",
      "  6  P5+   0        0        0.5\n",
      "  7  P5+   0.5      0.5      0\n",
      "  8  S2-   0.31244  0.34755  0.16502\n",
      "  9  S2-   0.34755  0.68756  0.83498\n",
      " 10  S2-   0.65245  0.31244  0.83498\n",
      " 11  S2-   0.81244  0.15245  0.33498\n",
      " 12  S2-   0.18756  0.84755  0.33498\n",
      " 13  S2-   0.68756  0.65245  0.16502\n",
      " 14  S2-   0.15245  0.18756  0.66502\n",
      " 15  S2-   0.84755  0.81244  0.66502\n",
      "Spacegroup of lowest energy Na3PS4 is P-42_1c (114)\n"
     ]
    }
   ],
   "source": [
    "from pymatgen.ext.matproj import MPRester\n",
    "\n",
    "mpr = MPRester()  # If this gives you an error, please do mpr = MPRester(\"your API key\") instead.\n",
    "\n",
    "# Here, we use the high-level interface to the Materials Project (MPRester) to get all entries from \n",
    "# the Materials Project with formula Li4GeS4.\n",
    "\n",
    "entries = mpr.get_entries(\"Na3PS4\", inc_structure=True)\n",
    "print(len(entries))  # There should be two entries.\n",
    "\n",
    "# Usually, we want the minimum energy structure\n",
    "min_entry = min(entries, key=lambda e: e.energy_per_atom)\n",
    "Na3PS4 = min_entry.structure\n",
    "\n",
    "# Let us now automatically assign oxidation states to the elements.\n",
    "Na3PS4.add_oxidation_state_by_guess()\n",
    "\n",
    "print(Na3PS4)\n",
    "print(\"Spacegroup of lowest energy Na3PS4 is %s (%d)\" % Na3PS4.get_space_group_info())"
   ]
  },
  {
   "cell_type": "markdown",
   "metadata": {},
   "source": [
    "# Creating Cl-doped Na3PS4"
   ]
  },
  {
   "cell_type": "code",
   "execution_count": 24,
   "metadata": {},
   "outputs": [
    {
     "name": "stdout",
     "output_type": "stream",
     "text": [
      "Overall charge of Na5 P2 S7 Cl1 is 0.000000\n"
     ]
    }
   ],
   "source": [
    "Na3PS4Cl = Na3PS4.copy()\n",
    "\n",
    "# Note that in reality, a supercell has to be generated to achieve the low Cl concentrations in experiments.\n",
    "# The code to generate a 2x2x2 supercell is as follows:\n",
    "# Na3PS4Cl.make_supercell([2, 2, 2])\n",
    "\n",
    "# Here, we will only perform analysis within a 1x1x1 conventional cell in the interests of time.\n",
    "\n",
    "Na3PS4Cl[\"S2-\"] = {\"S2-\": 7/8, \"Cl-\": 1/8}\n",
    "Na3PS4Cl[\"Na+\"] = {\"Na+\": 5/6}\n",
    "print(\"Overall charge of %s is %f\" % (Na3PS4Cl.formula, Na3PS4Cl.charge))\n",
    "\n",
    "# Generates a crystallographic information format file that can be viewed in most \n",
    "# crystal visualization software.\n",
    "Na3PS4Cl.to(filename=\"Na3PS4Cl.cif\")  "
   ]
  },
  {
   "cell_type": "markdown",
   "metadata": {},
   "source": [
    "To perform calculations on Cl-doped Na3PS4, we need to generate ordered crystals from the disordered crystal we just created. We will make use of Pymatgen's transformations package, which are basically standardized series of operations on structures to generate new structures."
   ]
  },
  {
   "cell_type": "code",
   "execution_count": 26,
   "metadata": {},
   "outputs": [
    {
     "name": "stdout",
     "output_type": "stream",
     "text": [
      "# of structures generated = 48\n"
     ]
    }
   ],
   "source": [
    "from pymatgen.transformations.standard_transformations import OrderDisorderedStructureTransformation\n",
    "\n",
    "trans = OrderDisorderedStructureTransformation()\n",
    "ordered_Na3PS4Cl = trans.apply_transformation(Na3PS4Cl, return_ranked_list=100)\n",
    "print(\"# of structures generated = %s\" % len(ordered_Na3PS4Cl))"
   ]
  },
  {
   "cell_type": "markdown",
   "metadata": {},
   "source": [
    "Note that the OrderedDisorderedStructureTransformation does not take into account symmetry. We will use Pymatgen's powerful StructureMatcher to obtain only symmetrically distinct structures."
   ]
  },
  {
   "cell_type": "code",
   "execution_count": 29,
   "metadata": {},
   "outputs": [
    {
     "name": "stdout",
     "output_type": "stream",
     "text": [
      "2\n"
     ]
    }
   ],
   "source": [
    "from pymatgen.analysis.structure_matcher import StructureMatcher\n",
    "\n",
    "matcher = StructureMatcher()\n",
    "groups = matcher.group_structures([d[\"structure\"] for d in ordered_Na3PS4Cl])\n",
    "distinct_Na3PS4Cl = [g[0] for g in groups]\n",
    "print(len(distinct_Na3PS4Cl))"
   ]
  },
  {
   "cell_type": "markdown",
   "metadata": {},
   "source": [
    "# Generating input files for calculations"
   ]
  },
  {
   "cell_type": "code",
   "execution_count": 31,
   "metadata": {},
   "outputs": [],
   "source": [
    "from pymatgen.io.vasp.sets import MPRelaxSet, batch_write_input\n",
    "\n",
    "# batch_write_input(distinct_Na3PS4Cl, include_cif=True)"
   ]
  },
  {
   "cell_type": "markdown",
   "metadata": {},
   "source": [
    "# Retreiving the results of a calculation"
   ]
  },
  {
   "cell_type": "code",
   "execution_count": null,
   "metadata": {},
   "outputs": [],
   "source": [
    "from pymatgen.io.vasp import Vasprun\n",
    "\n",
    "vasprun = Vasprun(\"vasprun.Li4SnS4.xml\")\n",
    "print(vasprun.final_structure)\n",
    "print(vasprun.final_energy)\n",
    "entry = vasprun.get_computed_entry()"
   ]
  },
  {
   "cell_type": "code",
   "execution_count": null,
   "metadata": {},
   "outputs": [],
   "source": []
  }
 ],
 "metadata": {
  "kernelspec": {
   "display_name": "Python 3",
   "language": "python",
   "name": "python3"
  },
  "language_info": {
   "codemirror_mode": {
    "name": "ipython",
    "version": 3
   },
   "file_extension": ".py",
   "mimetype": "text/x-python",
   "name": "python",
   "nbconvert_exporter": "python",
   "pygments_lexer": "ipython3",
   "version": "3.6.3"
  }
 },
 "nbformat": 4,
 "nbformat_minor": 2
}
