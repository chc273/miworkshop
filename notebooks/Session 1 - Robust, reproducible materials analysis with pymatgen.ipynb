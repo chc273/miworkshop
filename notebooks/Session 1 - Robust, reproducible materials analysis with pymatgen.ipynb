{
 "cells": [
  {
   "cell_type": "markdown",
   "metadata": {},
   "source": [
    "# Introduction\n",
    "\n",
    "This notebook demonstrates how to use pymatgen to quickly obtain data from the Materials Project, and perform some basic structure manipulations and analysis."
   ]
  },
  {
   "cell_type": "code",
   "execution_count": 2,
   "metadata": {},
   "outputs": [],
   "source": [
    "# Importing some of the functions that we will be using\n",
    "%matplotlib inline\n",
    "from pymatgen.ext.matproj import MPRester"
   ]
  },
  {
   "cell_type": "code",
   "execution_count": 3,
   "metadata": {},
   "outputs": [],
   "source": [
    "mpr = MPRester()  # If this gives you an error, please do mpr = MPRester(\"your API key\") instead."
   ]
  },
  {
   "cell_type": "code",
   "execution_count": 12,
   "metadata": {},
   "outputs": [
    {
     "name": "stdout",
     "output_type": "stream",
     "text": [
      "1\n",
      "Full Formula (Li16 Ge4 S16)\n",
      "Reduced Formula: Li4GeS4\n",
      "abc   :   6.150230   7.754800  14.034000\n",
      "angles:  90.000000  90.000000  90.000000\n",
      "Sites (36)\n",
      "  #  SP         a       b        c\n",
      "---  ----  ------  ------  -------\n",
      "  0  Li    0.6315  0.25    0.5873\n",
      "  1  Li    0.1315  0.75    0.9127\n",
      "  2  Li    0.3685  0.75    0.4127\n",
      "  3  Li    0.8685  0.25    0.0873\n",
      "  4  Li    0.6997  0.0027  0.8232\n",
      "  5  Li    0.1997  0.9973  0.6768\n",
      "  6  Li    0.3003  0.5027  0.1768\n",
      "  7  Li    0.8003  0.4973  0.3232\n",
      "  8  Li    0.3003  0.9973  0.1768\n",
      "  9  Li    0.8003  0.0027  0.3232\n",
      " 10  Li    0.6997  0.4973  0.8232\n",
      " 11  Li    0.1997  0.5027  0.6768\n",
      " 12  Li    0.5     0       0\n",
      " 13  Li    0       0       0.5\n",
      " 14  Li    0.5     0.5     0\n",
      " 15  Li    0       0.5     0.5\n",
      " 16  Ge    0.6494  0.75    0.58922\n",
      " 17  Ge    0.1494  0.25    0.91078\n",
      " 18  Ge    0.3506  0.25    0.41078\n",
      " 19  Ge    0.8506  0.75    0.08922\n",
      " 20  S     0.7758  0.9851  0.6572\n",
      " 21  S     0.2758  0.0149  0.8428\n",
      " 22  S     0.2242  0.4851  0.3428\n",
      " 23  S     0.7242  0.5149  0.1572\n",
      " 24  S     0.2242  0.0149  0.3428\n",
      " 25  S     0.7242  0.9851  0.1572\n",
      " 26  S     0.7758  0.5149  0.6572\n",
      " 27  S     0.2758  0.4851  0.8428\n",
      " 28  S     0.7966  0.25    0.9129\n",
      " 29  S     0.2966  0.75    0.5871\n",
      " 30  S     0.2034  0.75    0.0871\n",
      " 31  S     0.7034  0.25    0.4129\n",
      " 32  S     0.7315  0.75    0.939\n",
      " 33  S     0.2315  0.25    0.561\n",
      " 34  S     0.2685  0.25    0.061\n",
      " 35  S     0.7685  0.75    0.439\n"
     ]
    }
   ],
   "source": [
    "# Here, we use the high-level interface to the Materials Project (MPRester) to get all entries from \n",
    "# the Materials Project with formula Li4GeS4.\n",
    "\n",
    "entries = mpr.get_entries(\"Li4GeS4\", inc_structure=True)\n",
    "print(len(entries))\n",
    "Li4GeS4 = entries[0].structure\n",
    "print(Li4GeS4)"
   ]
  },
  {
   "cell_type": "code",
   "execution_count": 11,
   "metadata": {},
   "outputs": [
    {
     "name": "stdout",
     "output_type": "stream",
     "text": [
      "Full Formula (Li16 Sn4 S16)\n",
      "Reduced Formula: Li4SnS4\n",
      "abc   :   6.150230   7.754800  14.034000\n",
      "angles:  90.000000  90.000000  90.000000\n",
      "Sites (36)\n",
      "  #  SP         a       b        c\n",
      "---  ----  ------  ------  -------\n",
      "  0  Li    0.6315  0.25    0.5873\n",
      "  1  Li    0.1315  0.75    0.9127\n",
      "  2  Li    0.3685  0.75    0.4127\n",
      "  3  Li    0.8685  0.25    0.0873\n",
      "  4  Li    0.6997  0.0027  0.8232\n",
      "  5  Li    0.1997  0.9973  0.6768\n",
      "  6  Li    0.3003  0.5027  0.1768\n",
      "  7  Li    0.8003  0.4973  0.3232\n",
      "  8  Li    0.3003  0.9973  0.1768\n",
      "  9  Li    0.8003  0.0027  0.3232\n",
      " 10  Li    0.6997  0.4973  0.8232\n",
      " 11  Li    0.1997  0.5027  0.6768\n",
      " 12  Li    0.5     0       0\n",
      " 13  Li    0       0       0.5\n",
      " 14  Li    0.5     0.5     0\n",
      " 15  Li    0       0.5     0.5\n",
      " 16  Sn    0.6494  0.75    0.58922\n",
      " 17  Sn    0.1494  0.25    0.91078\n",
      " 18  Sn    0.3506  0.25    0.41078\n",
      " 19  Sn    0.8506  0.75    0.08922\n",
      " 20  S     0.7758  0.9851  0.6572\n",
      " 21  S     0.2758  0.0149  0.8428\n",
      " 22  S     0.2242  0.4851  0.3428\n",
      " 23  S     0.7242  0.5149  0.1572\n",
      " 24  S     0.2242  0.0149  0.3428\n",
      " 25  S     0.7242  0.9851  0.1572\n",
      " 26  S     0.7758  0.5149  0.6572\n",
      " 27  S     0.2758  0.4851  0.8428\n",
      " 28  S     0.7966  0.25    0.9129\n",
      " 29  S     0.2966  0.75    0.5871\n",
      " 30  S     0.2034  0.75    0.0871\n",
      " 31  S     0.7034  0.25    0.4129\n",
      " 32  S     0.7315  0.75    0.939\n",
      " 33  S     0.2315  0.25    0.561\n",
      " 34  S     0.2685  0.25    0.061\n",
      " 35  S     0.7685  0.75    0.439\n"
     ]
    }
   ],
   "source": [
    "# Making Li4SnS4 from Li4GeS4\n",
    "\n",
    "Li4SnS4 = Li4GeS4.copy()\n",
    "Li4SnS4[\"Ge\"] = \"Sn\"\n",
    "print(Li4SnS4)"
   ]
  },
  {
   "cell_type": "markdown",
   "metadata": {},
   "source": [
    "# Generating input files for calculations"
   ]
  },
  {
   "cell_type": "code",
   "execution_count": 16,
   "metadata": {},
   "outputs": [
    {
     "name": "stdout",
     "output_type": "stream",
     "text": [
      "ALGO = Fast\n",
      "EDIFF = 0.0018000000000000002\n",
      "ENCUT = 520\n",
      "IBRION = 2\n",
      "ICHARG = 1\n",
      "ISIF = 3\n",
      "ISMEAR = -5\n",
      "ISPIN = 2\n",
      "LORBIT = 11\n",
      "LREAL = Auto\n",
      "LWAVE = False\n",
      "MAGMOM = 36*0.6\n",
      "NELM = 100\n",
      "NSW = 99\n",
      "PREC = Accurate\n",
      "SIGMA = 0.05\n",
      "\n",
      "pymatgen 4.7.6+ generated KPOINTS with grid density = 854 / atom\n",
      "0\n",
      "Gamma\n",
      "4 3 1\n",
      "\n"
     ]
    }
   ],
   "source": [
    "from pymatgen.io.vasp.sets import MPRelaxSet\n",
    "\n",
    "input_set = MPRelaxSet(Li4SnS4)\n",
    "print(input_set.incar)\n",
    "print(input_set.kpoints)\n",
    "# print(input_set.poscar)\n",
    "# print(input_set.potcar)\n",
    "\n",
    "# Do not run the line below. This is to show that you can write all the input files to a directory.\n",
    "# input_set.write_input(\"Li4SnS4\")"
   ]
  },
  {
   "cell_type": "code",
   "execution_count": null,
   "metadata": {},
   "outputs": [],
   "source": []
  }
 ],
 "metadata": {
  "kernelspec": {
   "display_name": "Python 3",
   "language": "python",
   "name": "python3"
  },
  "language_info": {
   "codemirror_mode": {
    "name": "ipython",
    "version": 3
   },
   "file_extension": ".py",
   "mimetype": "text/x-python",
   "name": "python",
   "nbconvert_exporter": "python",
   "pygments_lexer": "ipython3",
   "version": "3.6.3"
  }
 },
 "nbformat": 4,
 "nbformat_minor": 2
}
