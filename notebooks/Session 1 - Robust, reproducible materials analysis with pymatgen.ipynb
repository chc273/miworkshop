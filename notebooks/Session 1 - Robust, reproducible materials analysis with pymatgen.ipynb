{
 "cells": [
  {
   "cell_type": "markdown",
   "metadata": {},
   "source": [
    "# Introduction\n",
    "\n",
    "This notebook demonstrates how to use pymatgen to quickly obtain data from the Materials Project, and perform some basic structure manipulations and analysis."
   ]
  },
  {
   "cell_type": "markdown",
   "metadata": {},
   "source": [
    "# Getting the structure for Li4GeS4\n",
    "\n",
    "## Option 1 - Read a CIF downloaded from ICSD"
   ]
  },
  {
   "cell_type": "code",
   "execution_count": null,
   "metadata": {},
   "outputs": [],
   "source": [
    "from pymatgen import Structure\n",
    "\n",
    "Li4GeS4 = Structure.from_file(\"ICSD_95649.cif\")\n",
    "print(Li4GeS4)"
   ]
  },
  {
   "cell_type": "markdown",
   "metadata": {},
   "source": [
    "## Option 2 - Query from Materials Project using API"
   ]
  },
  {
   "cell_type": "code",
   "execution_count": null,
   "metadata": {},
   "outputs": [],
   "source": [
    "from pymatgen.ext.matproj import MPRester\n",
    "\n",
    "mpr = MPRester()  # If this gives you an error, please do mpr = MPRester(\"your API key\") instead.\n",
    "\n",
    "# Here, we use the high-level interface to the Materials Project (MPRester) to get all entries from \n",
    "# the Materials Project with formula Li4GeS4.\n",
    "\n",
    "entries = mpr.get_entries(\"Li4GeS4\", inc_structure=True)\n",
    "print(len(entries))\n",
    "Li4GeS4 = entries[0].structure\n",
    "print(Li4GeS4)"
   ]
  },
  {
   "cell_type": "markdown",
   "metadata": {},
   "source": [
    "# Making Li4SnS4 from Li4GeS4"
   ]
  },
  {
   "cell_type": "code",
   "execution_count": null,
   "metadata": {},
   "outputs": [],
   "source": [
    "Li4SnS4 = Li4GeS4.copy()\n",
    "Li4SnS4[\"Ge\"] = \"Sn\"\n",
    "print(Li4SnS4)\n",
    "\n",
    "# Generates a crystallographic information format file that can be viewed in most \n",
    "# crystal visualization software.\n",
    "Li4SnS4.to(filename=\"Li4SnS4.cif\")  "
   ]
  },
  {
   "cell_type": "markdown",
   "metadata": {},
   "source": [
    "# Generating input files for calculations"
   ]
  },
  {
   "cell_type": "code",
   "execution_count": null,
   "metadata": {},
   "outputs": [],
   "source": [
    "from pymatgen.io.vasp.sets import MPRelaxSet\n",
    "\n",
    "input_set = MPRelaxSet(Li4SnS4)\n",
    "print(input_set.incar)\n",
    "print(input_set.kpoints)\n",
    "# print(input_set.poscar)\n",
    "# print(input_set.potcar)\n",
    "\n",
    "# Do not run the line below. This is to show that you can write all the input files to a directory.\n",
    "# input_set.write_input(\"Li4SnS4\")"
   ]
  },
  {
   "cell_type": "markdown",
   "metadata": {},
   "source": [
    "# Retreiving the results of a calculation"
   ]
  },
  {
   "cell_type": "code",
   "execution_count": null,
   "metadata": {},
   "outputs": [],
   "source": [
    "from pymatgen.io.vasp import Vasprun\n",
    "\n",
    "vasprun = Vasprun(\"vasprun.Li4SnS4.xml\")\n",
    "print(vasprun.final_structure)\n",
    "print(vasprun.final_energy)\n",
    "entry = vasprun.get_computed_entry()"
   ]
  },
  {
   "cell_type": "code",
   "execution_count": null,
   "metadata": {},
   "outputs": [],
   "source": []
  }
 ],
 "metadata": {
  "kernelspec": {
   "display_name": "Python 3",
   "language": "python",
   "name": "python3"
  },
  "language_info": {
   "codemirror_mode": {
    "name": "ipython",
    "version": 3
   },
   "file_extension": ".py",
   "mimetype": "text/x-python",
   "name": "python",
   "nbconvert_exporter": "python",
   "pygments_lexer": "ipython3",
   "version": "3.6.3"
  }
 },
 "nbformat": 4,
 "nbformat_minor": 2
}
